{
  "nbformat": 4,
  "nbformat_minor": 0,
  "metadata": {
    "colab": {
      "provenance": [],
      "authorship_tag": "ABX9TyOhnvqzv74Vyrdj/ZvMKUnC",
      "include_colab_link": true
    },
    "kernelspec": {
      "name": "python3",
      "display_name": "Python 3"
    },
    "language_info": {
      "name": "python"
    }
  },
  "cells": [
    {
      "cell_type": "markdown",
      "metadata": {
        "id": "view-in-github",
        "colab_type": "text"
      },
      "source": [
        "<a href=\"https://colab.research.google.com/github/D-lang14/Streamlit_app/blob/main/Resume_Matcher.ipynb\" target=\"_parent\"><img src=\"https://colab.research.google.com/assets/colab-badge.svg\" alt=\"Open In Colab\"/></a>"
      ]
    },
    {
      "cell_type": "code",
      "source": [
        "!pip install PyMuPDF\n",
        "!pip install streamlit"
      ],
      "metadata": {
        "colab": {
          "base_uri": "https://localhost:8080/"
        },
        "id": "Eq7KPZfsdK27",
        "outputId": "0d08aba6-0362-4b11-be79-cb8394d87289"
      },
      "execution_count": null,
      "outputs": [
        {
          "output_type": "stream",
          "name": "stdout",
          "text": [
            "Collecting PyMuPDF\n",
            "  Downloading pymupdf-1.26.0-cp39-abi3-manylinux2014_x86_64.manylinux_2_17_x86_64.whl.metadata (3.4 kB)\n",
            "Downloading pymupdf-1.26.0-cp39-abi3-manylinux2014_x86_64.manylinux_2_17_x86_64.whl (24.1 MB)\n",
            "\u001b[2K   \u001b[90m━━━━━━━━━━━━━━━━━━━━━━━━━━━━━━━━━━━━━━━━\u001b[0m \u001b[32m24.1/24.1 MB\u001b[0m \u001b[31m59.6 MB/s\u001b[0m eta \u001b[36m0:00:00\u001b[0m\n",
            "\u001b[?25hInstalling collected packages: PyMuPDF\n",
            "Successfully installed PyMuPDF-1.26.0\n"
          ]
        }
      ]
    },
    {
      "cell_type": "code",
      "execution_count": null,
      "metadata": {
        "colab": {
          "base_uri": "https://localhost:8080/"
        },
        "id": "5K_kI2lmctZi",
        "outputId": "160b54dc-f14c-4226-b00b-a3ffc11a1e94"
      },
      "outputs": [
        {
          "output_type": "stream",
          "name": "stderr",
          "text": [
            "2025-05-29 06:02:04.149 Thread 'MainThread': missing ScriptRunContext! This warning can be ignored when running in bare mode.\n",
            "2025-05-29 06:02:04.152 Thread 'MainThread': missing ScriptRunContext! This warning can be ignored when running in bare mode.\n",
            "2025-05-29 06:02:04.161 Thread 'MainThread': missing ScriptRunContext! This warning can be ignored when running in bare mode.\n",
            "2025-05-29 06:02:04.167 Thread 'MainThread': missing ScriptRunContext! This warning can be ignored when running in bare mode.\n",
            "2025-05-29 06:02:04.170 Thread 'MainThread': missing ScriptRunContext! This warning can be ignored when running in bare mode.\n",
            "2025-05-29 06:02:04.173 Thread 'MainThread': missing ScriptRunContext! This warning can be ignored when running in bare mode.\n",
            "2025-05-29 06:02:04.174 Thread 'MainThread': missing ScriptRunContext! This warning can be ignored when running in bare mode.\n",
            "2025-05-29 06:02:04.176 Thread 'MainThread': missing ScriptRunContext! This warning can be ignored when running in bare mode.\n",
            "2025-05-29 06:02:04.177 Thread 'MainThread': missing ScriptRunContext! This warning can be ignored when running in bare mode.\n",
            "2025-05-29 06:02:04.178 Thread 'MainThread': missing ScriptRunContext! This warning can be ignored when running in bare mode.\n",
            "2025-05-29 06:02:04.179 Thread 'MainThread': missing ScriptRunContext! This warning can be ignored when running in bare mode.\n",
            "2025-05-29 06:02:04.179 Thread 'MainThread': missing ScriptRunContext! This warning can be ignored when running in bare mode.\n"
          ]
        }
      ],
      "source": [
        "import streamlit as st\n",
        "import os\n",
        "import re\n",
        "import fitz\n",
        "import pandas as pd\n",
        "from sklearn.feature_extraction.text import TfidfVectorizer\n",
        "from sklearn.metrics.pairwise import cosine_similarity\n",
        "\n",
        "st.title(\"Resume Matcher\")\n",
        "\n",
        "#  Upload JD\n",
        "jd_file = st.file_uploader(\"Upload Job Description (txt)\", type=[\"txt\"])\n",
        "resume_files = st.file_uploader(\"Upload Resumes (pdf)\", type=[\"pdf\"], accept_multiple_files=True)\n",
        "\n",
        "def extract_text(pdf_file):\n",
        "    with fitz.open(stream=pdf_file.read(), filetype=\"pdf\") as doc:\n",
        "      return \" \".join(page.get_text() for page in doc)\n",
        "\n",
        "def extract_keywords(text):\n",
        "  from nltk.corpus import stopwords\n",
        "  import nltk\n",
        "  nltk.download('stopwords')\n",
        "  stop_words = set(stopwords.words('english'))\n",
        "  return [w for w in re.findall(r'\\b\\w+\\b', text.lower()) if w not in stop_words and len(w) > 2]\n",
        "\n",
        "if jd_file and resume_files:\n",
        "  jd_text = jd_file.read().decode(\"utf-8\")\n",
        "  resumes = [extract_text(file) for file in resume_files]\n",
        "  names = [file.name for file in resume_files]\n",
        "\n",
        "  # TF-IDF Similarity\n",
        "  tfidf = TfidfVectorizer(tokenizer=extract_keywords)\n",
        "  matrix = tfidf.fit_transform([jd_text] + resumes)\n",
        "  similarity = cosine_similarity(matrix[0:1], matrix[1:]).flatten()\n",
        "\n",
        "  # Keyword Match\n",
        "  jd_keywords = extract_keywords(jd_text)\n",
        "  keyword_matches = []\n",
        "  for res in resumes:\n",
        "    res_keywords = extract_keywords(res)\n",
        "    matches = set(jd_keywords).intersect(res_keywords)\n",
        "    keyword_matches.append(matches)\n",
        "\n",
        "  # Final DataFrame\n",
        "  df = pd.DataFrame({\n",
        "      'Resume Name' : names,\n",
        "      'Similarity Score' : similarity,\n",
        "      'Keyword Match Count' : [len(m) for m in keyword_matches],\n",
        "      'Matched Keywords' : [\", \".join(m) for m in keyword_matches]\n",
        "  }).sort_values(by=['Similarity Score', 'Keyword Match Count'], ascending=False)\n",
        "\n",
        "  st.dataframe(df)\n",
        "\n"
      ]
    },
    {
      "cell_type": "code",
      "source": [],
      "metadata": {
        "id": "CTfDlmPjoelD"
      },
      "execution_count": null,
      "outputs": []
    }
  ]
}